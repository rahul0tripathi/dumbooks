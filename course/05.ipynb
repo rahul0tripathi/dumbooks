{
 "cells": [
  {
   "cell_type": "code",
   "execution_count": 9,
   "metadata": {},
   "outputs": [
    {
     "name": "stdout",
     "output_type": "stream",
     "text": [
      "Input: \n",
      "[[0.66666667 1.        ]\n",
      " [0.33333333 0.55555556]\n",
      " [1.         0.66666667]]\n",
      "Actual Output: \n",
      "[[0.92]\n",
      " [0.86]\n",
      " [0.89]]\n",
      "Predicted Output: \n",
      " [[0.89563953]\n",
      " [0.88053442]\n",
      " [0.89262199]]\n"
     ]
    }
   ],
   "source": [
    "import numpy as np\n",
    "\n",
    "X = np.array(([2,9],[1,5],[3,6]),dtype='float')\n",
    "Y = np.array(([.92],[.86],[.89]), dtype='float')\n",
    "X = X/np.amax(X,axis=0)\n",
    "\n",
    "def sigmoid(v):\n",
    "    return (1/(1+np.exp(-v)))\n",
    "def derivative_sigmoid(x):\n",
    "    return x*(1-x)\n",
    "\n",
    "\n",
    "epoch = 7000\n",
    "lr=0.1\n",
    "input_neurons = 2\n",
    "hidden_neurons=3\n",
    "op_neurons=1\n",
    "\n",
    "wh = np.random.uniform(size=(input_neurons,hidden_neurons))\n",
    "bh = np.random.uniform(size=(1, hidden_neurons))\n",
    "wout = np.random.uniform(size=(hidden_neurons, op_neurons))\n",
    "bout = np.random.uniform(size=(1, op_neurons))\n",
    "\n",
    "for i in range(epoch):\n",
    "   hinp1 = np.dot(X,wh)\n",
    "   hinp = hinp1 + bh\n",
    "   hlayer_act = sigmoid(hinp)\n",
    "   \n",
    "   outinp1 = np.dot(hlayer_act,wout)\n",
    "   outinp = outinp1 + bout\n",
    "   op = sigmoid(outinp)\n",
    "   \n",
    "   EO = Y - op\n",
    "   outgrad = derivative_sigmoid(op)\n",
    "   d_output = EO * outgrad\n",
    "   \n",
    "   EH = d_output.dot(wout.T)\n",
    "   hiddengrad = derivative_sigmoid(hlayer_act)\n",
    "   d_hidden = EH*hiddengrad\n",
    "   \n",
    "   wout += hlayer_act.T.dot(d_output) * lr\n",
    "   bout += np.sum(d_output,axis=0,keepdims=True)*lr\n",
    "   wh += X.T.dot(d_hidden) *lr\n",
    "   bh += np.sum(d_hidden, axis=0, keepdims=True) * lr\n",
    "   \n",
    "   \n",
    "    \n",
    "print(\"Input: \\n\" + str(X))\n",
    "print(\"Actual Output: \\n\" + str(Y))\n",
    "print(\"Predicted Output: \\n\" ,op)"
   ]
  }
 ],
 "metadata": {
  "kernelspec": {
   "display_name": "Python 3",
   "language": "python",
   "name": "python3"
  },
  "language_info": {
   "codemirror_mode": {
    "name": "ipython",
    "version": 3
   },
   "file_extension": ".py",
   "mimetype": "text/x-python",
   "name": "python",
   "nbconvert_exporter": "python",
   "pygments_lexer": "ipython3",
   "version": "3.10.5"
  },
  "orig_nbformat": 4,
  "vscode": {
   "interpreter": {
    "hash": "aee8b7b246df8f9039afb4144a1f6fd8d2ca17a180786b69acc140d282b71a49"
   }
  }
 },
 "nbformat": 4,
 "nbformat_minor": 2
}
