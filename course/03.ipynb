{
 "cells": [
  {
   "cell_type": "markdown",
   "metadata": {},
   "source": [
    "## CANDIDATE-ELIMINATION algorithm"
   ]
  },
  {
   "cell_type": "code",
   "execution_count": 5,
   "metadata": {},
   "outputs": [
    {
     "name": "stdout",
     "output_type": "stream",
     "text": [
      "     sky   air humidity    wind water forecast  play\n",
      "0  sunny  warm   normal  strong  warm     same     1\n",
      "1  sunny  warm     high  strong  warm     same     1\n",
      "2  rainy  cold     high  strong  warm   change     0\n",
      "3  sunny  warm     high  strong  cool   change     1\n"
     ]
    }
   ],
   "source": [
    "import pandas as pd\n",
    "import numpy as np\n",
    "data = pd.read_csv('../data/data.csv')\n",
    "print(data)"
   ]
  },
  {
   "cell_type": "code",
   "execution_count": 6,
   "metadata": {},
   "outputs": [],
   "source": [
    "concepts = np.array(data.iloc[:,0:-1])\n",
    "target = np.array(data.iloc[:,-1])"
   ]
  },
  {
   "cell_type": "code",
   "execution_count": 7,
   "metadata": {},
   "outputs": [
    {
     "name": "stdout",
     "output_type": "stream",
     "text": [
      "1\n",
      "['sunny' 'warm' 'normal' 'strong' 'warm' 'same']\n",
      "[['?', '?', '?', '?', '?', '?'], ['?', '?', '?', '?', '?', '?'], ['?', '?', '?', '?', '?', '?'], ['?', '?', '?', '?', '?', '?'], ['?', '?', '?', '?', '?', '?'], ['?', '?', '?', '?', '?', '?']]\n",
      "final specific hypothesis ['sunny' 'warm' '?' 'strong' '?' '?']\n",
      "final generic hypothesis [['sunny', '?', '?', '?', '?', '?'], ['?', 'warm', '?', '?', '?', '?'], ['?', '?', '?', 'strong', '?', '?']]\n"
     ]
    }
   ],
   "source": [
    "from os import remove\n",
    "\n",
    "\n",
    "def learn(concepts,target):\n",
    "    for i, val in enumerate(target):\n",
    "        print(val)\n",
    "        if val == 1:\n",
    "            break\n",
    "    specific_h = concepts[i].copy()\n",
    "    print(specific_h)\n",
    "    generic_h = [[\"?\" for i in range(len(specific_h))] for i in range(len(specific_h))]\n",
    "    print(generic_h)\n",
    "\n",
    "    for i, val in enumerate(concepts):\n",
    "        for j, new_val in enumerate(val):\n",
    "            if target[i] == 1:\n",
    "                \"\"\" positive result found hence change specific hypothesis and then general hypothesis\"\"\"\n",
    "                if specific_h[j] != new_val:\n",
    "                    specific_h[j] = \"?\"\n",
    "                    generic_h[j][j] = \"?\"\n",
    "            else:\n",
    "                if generic_h[j][j] !=  specific_h[j]:\n",
    "                    generic_h[j][j] = specific_h[j]\n",
    "                else:\n",
    "                    generic_h[j][j] = \"?\"\n",
    "    size = len(generic_h[0][0])+1 \n",
    "    for _,index in enumerate([i for i, val in enumerate(generic_h) if val == [\"?\" for i in range(len(val))]]):\n",
    "        generic_h.remove([\"?\" for i in range(size)])\n",
    "    return specific_h, generic_h\n",
    "    \n",
    "final_s,final_g = learn(concepts,target)\n",
    "print(\"final specific hypothesis\",final_s)\n",
    "print(\"final generic hypothesis\",final_g)\n",
    "        "
   ]
  }
 ],
 "metadata": {
  "kernelspec": {
   "display_name": "Python 3.10.5 64-bit",
   "language": "python",
   "name": "python3"
  },
  "language_info": {
   "codemirror_mode": {
    "name": "ipython",
    "version": 3
   },
   "file_extension": ".py",
   "mimetype": "text/x-python",
   "name": "python",
   "nbconvert_exporter": "python",
   "pygments_lexer": "ipython3",
   "version": "3.10.5 (v3.10.5:f377153967, Jun  6 2022, 12:36:10) [Clang 13.0.0 (clang-1300.0.29.30)]"
  },
  "orig_nbformat": 4,
  "vscode": {
   "interpreter": {
    "hash": "aee8b7b246df8f9039afb4144a1f6fd8d2ca17a180786b69acc140d282b71a49"
   }
  }
 },
 "nbformat": 4,
 "nbformat_minor": 2
}
