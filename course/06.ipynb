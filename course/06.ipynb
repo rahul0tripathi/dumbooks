{
 "cells": [
  {
   "cell_type": "markdown",
   "metadata": {},
   "source": [
    "# NAIVE BAYES CLASSIFIER"
   ]
  },
  {
   "cell_type": "code",
   "execution_count": 1,
   "metadata": {},
   "outputs": [],
   "source": [
    "import csv\n",
    "import math\n",
    "import random\n",
    "\n",
    "\n",
    "def mean(numbers):\n",
    "    return (sum(numbers)/float(len(numbers)-1))\n",
    "def load_csv(filename):\n",
    "    lines=csv.reader(open(filename,\"r\"))\n",
    "    dataset=list(lines)\n",
    "    for i in range(len(dataset)):\n",
    "        dataset[i] = [float(x) for x in dataset[i]]\n",
    "    return dataset\n",
    "\n",
    "def split_dataset(dataset, split_ratio):\n",
    "    trainSize = len(dataset)*split_ratio\n",
    "    trainSet=[]\n",
    "    copy=list(dataset)\n",
    "    while len(trainSet)<trainSize:\n",
    "        index=random.randrange(len(copy))\n",
    "        trainSet.append(copy.pop(index))\n",
    "    return [trainSet,copy]\n",
    "\n",
    "def diff_by_class(dataset):\n",
    "    diff={}\n",
    "    for i in range(len(dataset)):\n",
    "        vector=dataset[i]\n",
    "        if(vector[-1] not in diff):\n",
    "            diff[vector[-1]]=[]\n",
    "        diff[vector[-1]].append(vector)\n",
    "    return diff\n",
    "\n",
    "\n",
    "def std_dev(numbers):\n",
    "    avg = mean(numbers)\n",
    "    variance = sum([pow(x-avg, 2) for x in numbers])/float(len(numbers) - 1)\n",
    "    return math.sqrt(variance)\n",
    "\n",
    "def summarize(dataset):\n",
    "    summaries=[(mean(attribute),std_dev(attribute)) for attribute in zip(*dataset)]\n",
    "    del summaries[-1]\n",
    "    return summaries\n",
    "\n",
    "def summarize_by_class(dataset):\n",
    "    class_group=diff_by_class(dataset)\n",
    "    summaries = {}\n",
    "    for class_value, data in class_group.items():\n",
    "        summaries[class_value] = summarize(data)\n",
    "    return summaries\n",
    "\n",
    "\n",
    "def calc_probability(x, mean_val, std_dev_val):\n",
    "    exponent = math.exp(-(math.pow(x-mean_val, 2)/(2*math.pow(std_dev_val, 2))))\n",
    "    return (1/(math.sqrt(2*math.pi)*std_dev_val))*exponent\n",
    "\n",
    "def calc_class_probability(summaries,input_vector):\n",
    "    probabilities={}\n",
    "    for class_name , class_value in summaries.items():\n",
    "        probabilities[class_name] = 1\n",
    "        for i in range(len(class_value)):\n",
    "            mean_val,std_dev_val=class_value[i]\n",
    "            x=input_vector[i]\n",
    "            probabilities[class_name]*=calc_probability(x,mean_val,std_dev_val)\n",
    "    return probabilities\n",
    "\n"
   ]
  },
  {
   "cell_type": "code",
   "execution_count": 2,
   "metadata": {},
   "outputs": [],
   "source": [
    "\n",
    "def predict(summaries,input_vec):\n",
    "    prob=calc_class_probability(summaries,input_vec)\n",
    "    best_label,best_prob=None,1\n",
    "    for class_val,prob in prob.items():\n",
    "        if best_label is None or best_prob < prob:\n",
    "            best_prob=prob\n",
    "            best_label=class_val\n",
    "    return best_label\n",
    "\n",
    "def get_predictions(summaries,test_set):\n",
    "    predictions=[]\n",
    "    for i in range(len(test_set)):\n",
    "        result=predict(summaries,test_set[i])\n",
    "        predictions.append(result)\n",
    "    return predictions\n",
    "\n",
    "def get_accuracies(test_set, predictions):\n",
    "    correct=0\n",
    "    for i in range(len(test_set)):\n",
    "        if test_set[i][-1] == predictions[i]:\n",
    "            correct+=1\n",
    "    return (correct/float(len(test_set)))*100"
   ]
  },
  {
   "cell_type": "code",
   "execution_count": 3,
   "metadata": {},
   "outputs": [
    {
     "name": "stdout",
     "output_type": "stream",
     "text": [
      "Split 768 rows into train=761 and test=7 rows\n",
      "accuracy of the classifier is 100.0\n"
     ]
    }
   ],
   "source": [
    "def main():\n",
    "    filename=\"../data/diabetesdata.csv\"\n",
    "    split_ratio=.99\n",
    "    dataset=load_csv(filename)\n",
    "    training_set,test_set=split_dataset(dataset,split_ratio)\n",
    "    print('Split {0} rows into train={1} and test={2} rows'.format(len(dataset),len(training_set),len(test_set)))\n",
    "    summaries=summarize_by_class(training_set)\n",
    "    predictions=get_predictions(summaries,test_set)\n",
    "    accuracy=get_accuracies(test_set,predictions)\n",
    "    print(\"accuracy of the classifier is {0}\".format(accuracy))\n",
    "\n",
    "main()"
   ]
  }
 ],
 "metadata": {
  "kernelspec": {
   "display_name": "Python 3.10.5 64-bit",
   "language": "python",
   "name": "python3"
  },
  "language_info": {
   "codemirror_mode": {
    "name": "ipython",
    "version": 3
   },
   "file_extension": ".py",
   "mimetype": "text/x-python",
   "name": "python",
   "nbconvert_exporter": "python",
   "pygments_lexer": "ipython3",
   "version": "3.10.5 (v3.10.5:f377153967, Jun  6 2022, 12:36:10) [Clang 13.0.0 (clang-1300.0.29.30)]"
  },
  "orig_nbformat": 4,
  "vscode": {
   "interpreter": {
    "hash": "aee8b7b246df8f9039afb4144a1f6fd8d2ca17a180786b69acc140d282b71a49"
   }
  }
 },
 "nbformat": 4,
 "nbformat_minor": 2
}
