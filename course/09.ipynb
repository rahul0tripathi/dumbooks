{
 "cells": [
  {
   "attachments": {},
   "cell_type": "markdown",
   "metadata": {},
   "source": [
    "## Locally weighted regression"
   ]
  },
  {
   "cell_type": "code",
   "execution_count": 1,
   "metadata": {},
   "outputs": [],
   "source": [
    "import numpy as np\n",
    "import pandas as pd\n",
    "import matplotlib.pyplot as plt"
   ]
  },
  {
   "cell_type": "code",
   "execution_count": 11,
   "metadata": {},
   "outputs": [
    {
     "data": {
      "image/png": "[encoded data removed]",
      "text/plain": [
       "<Figure size 432x288 with 1 Axes>"
      ]
     },
     "metadata": {
      "needs_background": "light"
     },
     "output_type": "display_data"
    }
   ],
   "source": [
    "def kernel(point,xmat,k):\n",
    "    m,n=np.shape(X)\n",
    "    weights = np.mat(np.eye((m)))\n",
    "    for j in range(m):\n",
    "        diff = point - X[j]\n",
    "        weights[j,j] = np.exp(diff*diff.T/(-2.0*k**2))\n",
    "    return weights\n",
    "\n",
    "def localWeight(point,xmat,ymat,k):\n",
    "    wt = kernel(point,xmat,k)\n",
    "    W = (X.T*(wt*X)).I*(X.T*wt*ymat.T)\n",
    "    return W\n",
    "\n",
    "\n",
    "def locallyWeightedRegression(xmat,ymat,k):\n",
    "    m,n=np.shape(xmat)\n",
    "    ypred = np.zeros((m))\n",
    "    for i in range(m):\n",
    "        ypred[i] = xmat[i] * localWeight(xmat[i],xmat,ymat,k)\n",
    "    return ypred\n",
    "\n",
    "\n",
    "\n",
    "data = pd.read_csv('../data/data10_tips.csv')\n",
    "bills = np.array(data.total_bill)\n",
    "tips = np.array(data.tip)\n",
    "\n",
    "\n",
    "mbill = np.mat(bills)\n",
    "mtips = np.mat(tips)\n",
    "\n",
    "cols= np.shape(mtips)[1]\n",
    "\n",
    "one = np.ones((1,cols),dtype=int)\n",
    "X = np.hstack((one.T,mbill.T))\n",
    "\n",
    "ypred = locallyWeightedRegression(X,mtips,0.5)\n",
    "\n",
    "xsort = X.copy()\n",
    "xsort.sort(0)\n",
    "\n",
    "plt.scatter(bills,tips,color='blue')\n",
    "plt.plot(xsort[:,1],ypred[X[:,1].argsort(0)],color='yellow',linewidth=5)\n",
    "plt.xlabel('bill')\n",
    "plt.ylabel('tips')\n",
    "plt.show()"
   ]
  }
 ],
 "metadata": {
  "kernelspec": {
   "display_name": "Python 3",
   "language": "python",
   "name": "python3"
  },
  "language_info": {
   "codemirror_mode": {
    "name": "ipython",
    "version": 3
   },
   "file_extension": ".py",
   "mimetype": "text/x-python",
   "name": "python",
   "nbconvert_exporter": "python",
   "pygments_lexer": "ipython3",
   "version": "3.10.5"
  },
  "orig_nbformat": 4,
  "vscode": {
   "interpreter": {
    "hash": "aee8b7b246df8f9039afb4144a1f6fd8d2ca17a180786b69acc140d282b71a49"
   }
  }
 },
 "nbformat": 4,
 "nbformat_minor": 2
}
