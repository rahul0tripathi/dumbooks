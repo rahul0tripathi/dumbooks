{
 "cells": [
  {
   "cell_type": "code",
   "execution_count": 11,
   "metadata": {},
   "outputs": [
    {
     "name": "stdout",
     "output_type": "stream",
     "text": [
      "path ['A', 'B', 'D']\n"
     ]
    }
   ],
   "source": [
    "def astar(start,end):\n",
    "    open_set = set(start)\n",
    "    close_set = set()\n",
    "    g = {}\n",
    "    g[start] = 0\n",
    "    parents = {}\n",
    "    parents[start] = start\n",
    "    \n",
    "    \n",
    "    while len(open_set) >0:\n",
    "        n = None\n",
    "        for v in open_set:\n",
    "            if n== None or g[v] + h(v) < g[n] + h(n):\n",
    "                n=v\n",
    "        \n",
    "        if n == end or Graph_nodes[n] == None:\n",
    "            pass\n",
    "        else:    \n",
    "            for  (m,weights) in getN(n):\n",
    "                if m not in open_set and m not in close_set:\n",
    "                    g[m] = g[n] + weights\n",
    "                    parents[m] = n\n",
    "                    open_set.add(m)\n",
    "                else:\n",
    "                    if g[m] > g[n] + weights:\n",
    "                        g[m] = g[n] + weights\n",
    "                        parents[m] = n\n",
    "                    \n",
    "                    if m in close_set:\n",
    "                        close_set.remove(m)\n",
    "                        open_set.add(m)\n",
    "            if n == None:\n",
    "                print(\"path not found\")\n",
    "                return None\n",
    "        if n == end:\n",
    "            path = []\n",
    "            while parents[n] != n:\n",
    "                path.append(n)\n",
    "                n = parents[n]\n",
    "            path.append(start)\n",
    "            path.reverse()\n",
    "            print(\"path\",path)\n",
    "            return\n",
    "        open_set.remove(n)\n",
    "        close_set.add(n)\n",
    "    print(\"404\")\n",
    "    return   \n",
    "\n",
    "\n",
    "\n",
    "def getN(n):\n",
    "    if  n in Graph_nodes:\n",
    "        return Graph_nodes[n]\n",
    "    else:\n",
    "        return None\n",
    "\n",
    "def h(n):\n",
    "    H_dict = {\n",
    "        'A':1,\n",
    "        'B':1,\n",
    "        'C':1,\n",
    "        'D':1\n",
    "    }\n",
    "    return H_dict[n]\n",
    "\n",
    "Graph_nodes = {\n",
    "    'A':[('B',1),('C',3),('D',7)],\n",
    "    'B':[('D',5)],\n",
    "    'C': [('D', 12)]\n",
    "}\n",
    "astar('A','D')"
   ]
  },
  {
   "cell_type": "code",
   "execution_count": null,
   "metadata": {},
   "outputs": [],
   "source": []
  }
 ],
 "metadata": {
  "kernelspec": {
   "display_name": "Python 3",
   "language": "python",
   "name": "python3"
  },
  "language_info": {
   "codemirror_mode": {
    "name": "ipython",
    "version": 3
   },
   "file_extension": ".py",
   "mimetype": "text/x-python",
   "name": "python",
   "nbconvert_exporter": "python",
   "pygments_lexer": "ipython3",
   "version": "3.10.5"
  },
  "orig_nbformat": 4,
  "vscode": {
   "interpreter": {
    "hash": "aee8b7b246df8f9039afb4144a1f6fd8d2ca17a180786b69acc140d282b71a49"
   }
  }
 },
 "nbformat": 4,
 "nbformat_minor": 2
}
